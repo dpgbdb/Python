{
 "cells": [
  {
   "cell_type": "code",
   "execution_count": null,
   "metadata": {},
   "outputs": [],
   "source": [
    "\"\"\"\n",
    "날짜 : 2023/01/04\n",
    "이름 : 김동민\n",
    "내용 : 파이썬 자료구조 List 실습하기\n",
    "\"\"\""
   ]
  },
  {
   "cell_type": "code",
   "execution_count": 2,
   "metadata": {},
   "outputs": [
    {
     "name": "stdout",
     "output_type": "stream",
     "text": [
      "data type :  <class 'list'>\n",
      "data[0] 1\n",
      "data[2] 3\n",
      "data[3] 4\n"
     ]
    }
   ],
   "source": [
    "# 리스트\n",
    "data = [1, 2, 3, 4, 5]\n",
    "print('data type : ', type(data))\n",
    "print('data[0]',data[0])\n",
    "print('data[2]',data[2])\n",
    "print('data[3]',data[3])"
   ]
  },
  {
   "cell_type": "code",
   "execution_count": 3,
   "metadata": {},
   "outputs": [
    {
     "name": "stdout",
     "output_type": "stream",
     "text": [
      "data type :  <class 'list'>\n",
      "data[0] 1\n",
      "data[2] 3\n",
      "data[3] True\n"
     ]
    }
   ],
   "source": [
    "# d여러 종류 데이터를 저장하는 리스트\n",
    "data = [1, 3.14, True, 'apple']\n",
    "print('data type : ', type(data))\n",
    "print('data[0]',data[0])\n",
    "print('data[2]',data[2])\n",
    "print('data[3]',data[3])"
   ]
  }
 ],
 "metadata": {
  "kernelspec": {
   "display_name": "Python 3",
   "language": "python",
   "name": "python3"
  },
  "language_info": {
   "codemirror_mode": {
    "name": "ipython",
    "version": 3
   },
   "file_extension": ".py",
   "mimetype": "text/x-python",
   "name": "python",
   "nbconvert_exporter": "python",
   "pygments_lexer": "ipython3",
   "version": "3.11.1"
  },
  "orig_nbformat": 4,
  "vscode": {
   "interpreter": {
    "hash": "5868237a719c5308d34c8911a17794e6baa898a055f8bd5fbd9df195d03bb563"
   }
  }
 },
 "nbformat": 4,
 "nbformat_minor": 2
}
