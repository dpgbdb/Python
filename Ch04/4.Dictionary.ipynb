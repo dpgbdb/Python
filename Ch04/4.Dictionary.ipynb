{
 "cells": [
  {
   "cell_type": "code",
   "execution_count": null,
   "metadata": {},
   "outputs": [],
   "source": [
    "\"\"\"\n",
    "날짜 : 2023/01/04\n",
    "이름 : 김동민\n",
    "내용 : 파이썬 자료구조 Dictionary 실습하기\n",
    "\"\"\""
   ]
  },
  {
   "cell_type": "code",
   "execution_count": 2,
   "metadata": {},
   "outputs": [
    {
     "name": "stdout",
     "output_type": "stream",
     "text": [
      "data type :  <class 'dict'>\n",
      "data :  {'A': 'Apple', 'B': 'Banana', 'C': 'Cherry'}\n",
      "data['A'] :  Apple\n"
     ]
    }
   ],
   "source": [
    "# 딕셔너리\n",
    "data = {'A':'Apple', 'B':'Banana', 'C':'Cherry'}\n",
    "\n",
    "print('data type : ', type(data))\n",
    "\n",
    "print('data : ', data)\n",
    "\n",
    "print(\"data['A'] : \",data['A'])\n",
    "print(\"data['B'] : \",data['B'])\n",
    "print(\"data['C'] : \",data['C'])"
   ]
  },
  {
   "cell_type": "code",
   "execution_count": null,
   "metadata": {},
   "outputs": [],
   "source": []
  },
  {
   "cell_type": "code",
   "execution_count": null,
   "metadata": {},
   "outputs": [],
   "source": []
  }
 ],
 "metadata": {
  "kernelspec": {
   "display_name": "Python 3",
   "language": "python",
   "name": "python3"
  },
  "language_info": {
   "codemirror_mode": {
    "name": "ipython",
    "version": 3
   },
   "file_extension": ".py",
   "mimetype": "text/x-python",
   "name": "python",
   "nbconvert_exporter": "python",
   "pygments_lexer": "ipython3",
   "version": "3.11.1"
  },
  "orig_nbformat": 4,
  "vscode": {
   "interpreter": {
    "hash": "5868237a719c5308d34c8911a17794e6baa898a055f8bd5fbd9df195d03bb563"
   }
  }
 },
 "nbformat": 4,
 "nbformat_minor": 2
}
