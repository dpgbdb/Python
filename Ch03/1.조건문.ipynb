{
 "cells": [
  {
   "cell_type": "code",
   "execution_count": null,
   "metadata": {},
   "outputs": [],
   "source": [
    "\"\"\"\"\n",
    "날짜 : 2023/01/03\n",
    "이름 : 김동민\n",
    "내용 : 파이썬 조건문 실습하기\n",
    "\"\"\""
   ]
  },
  {
   "cell_type": "code",
   "execution_count": 1,
   "metadata": {},
   "outputs": [
    {
     "name": "stdout",
     "output_type": "stream",
     "text": [
      "num1은 0보다 크다.\n",
      "num1 은 0보다 크고 num2 는 1보다 크다.\n",
      "num1 은 0보다 크고 그리고 num2 는 1보다 크다.\n"
     ]
    }
   ],
   "source": [
    "# if\n",
    "\n",
    "num1, num2 = 1, 2\n",
    "if num1 > 0:\n",
    "    print('num1은 0보다 크다.')\n",
    "\n",
    "if num1 > num2:\n",
    "    print('num1은 num2 보다 크다.')\n",
    "\n",
    "if num1 > 0:\n",
    "    if num2 > 1:\n",
    "        print('num1 은 0보다 크고 num2 는 1보다 크다.')\n",
    "\n",
    "if num1 > 0 and num2 >1:\n",
    "    print('num1 은 0보다 크고 그리고 num2 는 1보다 크다.')"
   ]
  },
  {
   "cell_type": "code",
   "execution_count": 3,
   "metadata": {},
   "outputs": [
    {
     "name": "stdout",
     "output_type": "stream",
     "text": [
      "num3는 num4보다 작다\n"
     ]
    }
   ],
   "source": [
    "# if ~ else\n",
    "num3, num4 = 3,4\n",
    "\n",
    "if num3 > num4:\n",
    "    print('넘3은 넘4보다 크다.')\n",
    "else:\n",
    "    print('num3는 num4보다 작다')"
   ]
  },
  {
   "cell_type": "code",
   "execution_count": null,
   "metadata": {},
   "outputs": [],
   "source": [
    "# if ~ elif ~ else\n",
    "\n",
    "n1, n2, n3, n4 = 1,2,3,4\n",
    "\n",
    "if n1 > n2:\n",
    "    print('n1은 n2보다 크다.')\n",
    "elif n2 > n3:\n",
    "    print('n2은 n3보다 크다.')\n",
    "elif n3> n4:\n",
    "    print('n3은 n4보다 크다.')\n",
    "else:\n",
    "    print('n4가 가장크다.')"
   ]
  },
  {
   "cell_type": "code",
   "execution_count": null,
   "metadata": {},
   "outputs": [],
   "source": [
    "# 연습문제\n",
    "score = int(input('점수입력 : '))\n",
    "\n",
    "print('a입니다.')\n",
    "print('b입니다.')\n",
    "print('c입니다.')\n",
    "print('d입니다.')\n",
    "print('f입니다.')"
   ]
  }
 ],
 "metadata": {
  "kernelspec": {
   "display_name": "Python 3",
   "language": "python",
   "name": "python3"
  },
  "language_info": {
   "codemirror_mode": {
    "name": "ipython",
    "version": 3
   },
   "file_extension": ".py",
   "mimetype": "text/x-python",
   "name": "python",
   "nbconvert_exporter": "python",
   "pygments_lexer": "ipython3",
   "version": "3.11.1"
  },
  "orig_nbformat": 4,
  "vscode": {
   "interpreter": {
    "hash": "5868237a719c5308d34c8911a17794e6baa898a055f8bd5fbd9df195d03bb563"
   }
  }
 },
 "nbformat": 4,
 "nbformat_minor": 2
}
