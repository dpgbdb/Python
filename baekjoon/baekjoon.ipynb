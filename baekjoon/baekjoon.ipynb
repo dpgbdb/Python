{
 "cells": [
  {
   "cell_type": "code",
   "execution_count": 14,
   "metadata": {},
   "outputs": [
    {
     "data": {
      "text/plain": [
       "'3'"
      ]
     },
     "execution_count": 14,
     "metadata": {},
     "output_type": "execute_result"
    }
   ],
   "source": [
    "list=[]\n",
    "for i in range(int(input())):\n",
    "    list.append(i)\n",
    "\n",
    "list=(input().split())\n",
    "\n"
   ]
  },
  {
   "cell_type": "code",
   "execution_count": 17,
   "metadata": {},
   "outputs": [
    {
     "data": {
      "text/plain": [
       "3"
      ]
     },
     "execution_count": 17,
     "metadata": {},
     "output_type": "execute_result"
    }
   ],
   "source": [
    "#10807 \n",
    "b=input() # 이거 그냥 문제에서 요구하기때문에 넣어줌\n",
    "a=[]\n",
    "a=list(map(int,(input().split())))\n",
    "\n",
    "v = int(input())\n",
    "\n",
    "print(a.count(v))"
   ]
  },
  {
   "cell_type": "code",
   "execution_count": 58,
   "metadata": {},
   "outputs": [
    {
     "ename": "ValueError",
     "evalue": "invalid literal for int() with base 10: ''",
     "output_type": "error",
     "traceback": [
      "\u001b[1;31m---------------------------------------------------------------------------\u001b[0m",
      "\u001b[1;31mValueError\u001b[0m                                Traceback (most recent call last)",
      "Cell \u001b[1;32mIn[58], line 5\u001b[0m\n\u001b[0;32m      3\u001b[0m n2\u001b[39m=\u001b[39m \u001b[39mrange\u001b[39m(\u001b[39m1\u001b[39m,\u001b[39m31\u001b[39m)\n\u001b[0;32m      4\u001b[0m \u001b[39mfor\u001b[39;00m i \u001b[39min\u001b[39;00m \u001b[39mrange\u001b[39m(\u001b[39m1\u001b[39m,\u001b[39m29\u001b[39m):\n\u001b[1;32m----> 5\u001b[0m     n1\u001b[39m.\u001b[39mappend(\u001b[39mint\u001b[39;49m(\u001b[39minput\u001b[39;49m()))\n\u001b[0;32m      7\u001b[0m n3\u001b[39m=\u001b[39m\u001b[39mlist\u001b[39m(\u001b[39mset\u001b[39m(n2)\u001b[39m-\u001b[39m\u001b[39mset\u001b[39m(n1))\n\u001b[0;32m      8\u001b[0m \u001b[39mprint\u001b[39m(n1)\n",
      "\u001b[1;31mValueError\u001b[0m: invalid literal for int() with base 10: ''"
     ]
    }
   ],
   "source": [
    "#5597\n",
    "n1=[]\n",
    "n2= range(1,31)\n",
    "for i in range(1,29):\n",
    "    n1.append(int(input()))\n",
    "\n",
    "n3=list(set(n2)-set(n1))\n",
    "print(n1)\n",
    "print(n2)\n",
    "print(n3)\n",
    "print(min(n3))\n",
    "\n",
    "print(max(n3))"
   ]
  },
  {
   "cell_type": "code",
   "execution_count": 69,
   "metadata": {},
   "outputs": [
    {
     "name": "stdout",
     "output_type": "stream",
     "text": [
      "[2, 2, 2, 3, 3, 3, 4, 4, 4, 5]\n",
      "4\n"
     ]
    }
   ],
   "source": [
    "#3052\n",
    "a=[]\n",
    "nanun = []\n",
    "cnt = 0\n",
    "for i in range(10):\n",
    "    a.append(int(input()))\n",
    "    nanun.append(int(a[i]%42))\n",
    "\n",
    "cnt =set(nanun)\n",
    "print(len(cnt))\n"
   ]
  },
  {
   "cell_type": "code",
   "execution_count": 84,
   "metadata": {},
   "outputs": [
    {
     "name": "stdout",
     "output_type": "stream",
     "text": [
      "80\n",
      "75.0\n"
     ]
    }
   ],
   "source": [
    "#1563\n",
    "n = int(input())\n",
    "maxscore=0\n",
    "scores= []\n",
    "scores = list(map(int,(input().split())))\n",
    "sum=0\n",
    "maxscore = max(scores)\n",
    "\n",
    "for i in scores:\n",
    "    sum+=(i/maxscore*100)\n",
    "\n",
    "print(sum/n)"
   ]
  },
  {
   "cell_type": "code",
   "execution_count": 89,
   "metadata": {},
   "outputs": [
    {
     "name": "stdout",
     "output_type": "stream",
     "text": [
      "[['O', 'X', 'O', 'X', 'O', 'X'], ['X', 'O', 'X', 'O', 'X', 'O', 'X'], ['X', 'X', 'X']]\n"
     ]
    }
   ],
   "source": [
    "#8958\n",
    "#입력 : 테스트 케이스 반복횟수\n",
    "\n",
    "repeat = int(input())\n",
    "score = 0\n",
    "test=[]\n",
    "for i in range(repeat):\n",
    "    test.append(list(input()))\n",
    "    \n",
    "for j in range(test[range(len)]):\n",
    "    if test\n",
    "    \n",
    "print(test)\n",
    "\n",
    "실패~\n",
    "#실패 사유 : test를 너무 한번에 다 입력해서 쓸려다가 뇌정지옴 저번에도 한번 몰라서 답안을 봤는 데 또 못품 ㅋㅋ \n"
   ]
  },
  {
   "cell_type": "code",
   "execution_count": 97,
   "metadata": {},
   "outputs": [
    {
     "name": "stdout",
     "output_type": "stream",
     "text": [
      "[80.0, 80.0]\n"
     ]
    }
   ],
   "source": [
    "#4344\n",
    "#1 test케이스 몇회 입력 받기\n",
    "#1-1 test케이스에 학생 수 입력,  수에 맞게 점수 입력\n",
    "#1-2test케이스 평균 내기\n",
    "#1-3 test케이스 평균낸걸 비교하고 저장\n",
    "#2 비교한것을 백분률로 나타내서 출력\n",
    "\n",
    "    \n",
    "\n"
   ]
  },
  {
   "cell_type": "code",
   "execution_count": null,
   "metadata": {},
   "outputs": [],
   "source": []
  }
 ],
 "metadata": {
  "kernelspec": {
   "display_name": "Python 3",
   "language": "python",
   "name": "python3"
  },
  "language_info": {
   "codemirror_mode": {
    "name": "ipython",
    "version": 3
   },
   "file_extension": ".py",
   "mimetype": "text/x-python",
   "name": "python",
   "nbconvert_exporter": "python",
   "pygments_lexer": "ipython3",
   "version": "3.11.1 (tags/v3.11.1:a7a450f, Dec  6 2022, 19:58:39) [MSC v.1934 64 bit (AMD64)]"
  },
  "orig_nbformat": 4,
  "vscode": {
   "interpreter": {
    "hash": "5868237a719c5308d34c8911a17794e6baa898a055f8bd5fbd9df195d03bb563"
   }
  }
 },
 "nbformat": 4,
 "nbformat_minor": 2
}
