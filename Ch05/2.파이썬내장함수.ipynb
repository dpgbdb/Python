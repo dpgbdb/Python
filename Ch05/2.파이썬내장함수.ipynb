{
 "cells": [
  {
   "cell_type": "code",
   "execution_count": 21,
   "metadata": {},
   "outputs": [],
   "source": [
    "\"\"\"\n",
    "날짜 : 2023/01/06\n",
    "이름 : 김동민\n",
    "내용 : 파이썬 내장함수 실습하기\n",
    "\"\"\"\n",
    "import time\n",
    "import math\n",
    "import random"
   ]
  },
  {
   "cell_type": "code",
   "execution_count": 18,
   "metadata": {},
   "outputs": [
    {
     "name": "stdout",
     "output_type": "stream",
     "text": [
      "t1 : 1672987420.66902\n",
      "t2 : Fri Jan  6 15:43:40 2023\n",
      "2023년01월06일15:43:40\n"
     ]
    }
   ],
   "source": [
    "# 시간날짜 함수\n",
    "t1 = time.time()\n",
    "print('t1 :',t1)\n",
    "\n",
    "\n",
    "t2 = time.ctime()\n",
    "\n",
    "print('t2 :',t2)\n",
    "\n",
    "now = time.localtime(time.time())\n",
    "year = time.strftime('%Y',now)\n",
    "month = time.strftime('%m',now)\n",
    "date = time.strftime('%d',now)\n",
    "hour = time.strftime('%H',now)\n",
    "min = time.strftime('%M',now)\n",
    "sec = time.strftime('%S',now)\n",
    "\n",
    "print('{}년{}월{}일{}:{}:{}'.format(year,month,date,hour,min,sec))"
   ]
  },
  {
   "cell_type": "code",
   "execution_count": 20,
   "metadata": {},
   "outputs": [
    {
     "name": "stdout",
     "output_type": "stream",
     "text": [
      "r1 : 2\n",
      "r2 : 2\n",
      "r3 : 1\n",
      "r4 : 1\n",
      "r5 : 1\n",
      "r6 : 2\n"
     ]
    }
   ],
   "source": [
    "# 수학 함수\n",
    "r1=math.ceil(1.2)\n",
    "r2=math.ceil(1.8)\n",
    "r3=math.floor(1.2)\n",
    "r4=math.floor(1.8)\n",
    "r5=round(1.2)\n",
    "r6=round(1.8)\n",
    "\n",
    "print('r1 :',r1)\n",
    "print('r2 :',r2)\n",
    "print('r3 :',r3)\n",
    "print('r4 :',r4)\n",
    "print('r5 :',r5)\n",
    "print('r6 :',r6)"
   ]
  },
  {
   "cell_type": "code",
   "execution_count": 22,
   "metadata": {},
   "outputs": [
    {
     "name": "stdout",
     "output_type": "stream",
     "text": [
      "num1 : 0.7690983936669034\n",
      "num2 : 7.690983936669033\n",
      "num3 : 8\n"
     ]
    }
   ],
   "source": [
    "# 랜덤 함수\n",
    "num1 = random.random()\n",
    "print('num1 :', num1)\n",
    "\n",
    "num2 =num1* 10\n",
    "print('num2 :', num2)\n",
    "\n",
    "num3 = math.ceil(num2)\n",
    "print('num3 :', num3)"
   ]
  },
  {
   "cell_type": "code",
   "execution_count": null,
   "metadata": {},
   "outputs": [],
   "source": []
  }
 ],
 "metadata": {
  "kernelspec": {
   "display_name": "Python 3",
   "language": "python",
   "name": "python3"
  },
  "language_info": {
   "codemirror_mode": {
    "name": "ipython",
    "version": 3
   },
   "file_extension": ".py",
   "mimetype": "text/x-python",
   "name": "python",
   "nbconvert_exporter": "python",
   "pygments_lexer": "ipython3",
   "version": "3.11.1 (tags/v3.11.1:a7a450f, Dec  6 2022, 19:58:39) [MSC v.1934 64 bit (AMD64)]"
  },
  "orig_nbformat": 4,
  "vscode": {
   "interpreter": {
    "hash": "5868237a719c5308d34c8911a17794e6baa898a055f8bd5fbd9df195d03bb563"
   }
  }
 },
 "nbformat": 4,
 "nbformat_minor": 2
}
